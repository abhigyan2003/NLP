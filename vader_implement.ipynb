{
  "nbformat": 4,
  "nbformat_minor": 0,
  "metadata": {
    "colab": {
      "provenance": [],
      "gpuType": "T4",
      "authorship_tag": "ABX9TyNhKcKRUXQMvEEI7u5r+8U2",
      "include_colab_link": true
    },
    "kernelspec": {
      "name": "python3",
      "display_name": "Python 3"
    },
    "language_info": {
      "name": "python"
    },
    "accelerator": "GPU"
  },
  "cells": [
    {
      "cell_type": "markdown",
      "metadata": {
        "id": "view-in-github",
        "colab_type": "text"
      },
      "source": [
        "<a href=\"https://colab.research.google.com/github/abhigyan2003/NLP/blob/main/vader_implement.ipynb\" target=\"_parent\"><img src=\"https://colab.research.google.com/assets/colab-badge.svg\" alt=\"Open In Colab\"/></a>"
      ]
    },
    {
      "cell_type": "code",
      "execution_count": 1,
      "metadata": {
        "colab": {
          "base_uri": "https://localhost:8080/"
        },
        "id": "e7tIVY4788Od",
        "outputId": "97fd8f75-427b-4359-844b-3913a2b04288"
      },
      "outputs": [
        {
          "output_type": "stream",
          "name": "stdout",
          "text": [
            "Collecting vaderSentiment\n",
            "  Downloading vaderSentiment-3.3.2-py2.py3-none-any.whl.metadata (572 bytes)\n",
            "Requirement already satisfied: requests in /usr/local/lib/python3.11/dist-packages (from vaderSentiment) (2.32.3)\n",
            "Requirement already satisfied: charset-normalizer<4,>=2 in /usr/local/lib/python3.11/dist-packages (from requests->vaderSentiment) (3.4.2)\n",
            "Requirement already satisfied: idna<4,>=2.5 in /usr/local/lib/python3.11/dist-packages (from requests->vaderSentiment) (3.10)\n",
            "Requirement already satisfied: urllib3<3,>=1.21.1 in /usr/local/lib/python3.11/dist-packages (from requests->vaderSentiment) (2.4.0)\n",
            "Requirement already satisfied: certifi>=2017.4.17 in /usr/local/lib/python3.11/dist-packages (from requests->vaderSentiment) (2025.4.26)\n",
            "Downloading vaderSentiment-3.3.2-py2.py3-none-any.whl (125 kB)\n",
            "\u001b[?25l   \u001b[90m━━━━━━━━━━━━━━━━━━━━━━━━━━━━━━━━━━━━━━━━\u001b[0m \u001b[32m0.0/126.0 kB\u001b[0m \u001b[31m?\u001b[0m eta \u001b[36m-:--:--\u001b[0m\r\u001b[2K   \u001b[91m━━━━━━━━━━━━━━━━━━━━━━━━━━━━━━━━━━━━━━━\u001b[0m\u001b[90m╺\u001b[0m \u001b[32m122.9/126.0 kB\u001b[0m \u001b[31m4.9 MB/s\u001b[0m eta \u001b[36m0:00:01\u001b[0m\r\u001b[2K   \u001b[90m━━━━━━━━━━━━━━━━━━━━━━━━━━━━━━━━━━━━━━━━\u001b[0m \u001b[32m126.0/126.0 kB\u001b[0m \u001b[31m2.9 MB/s\u001b[0m eta \u001b[36m0:00:00\u001b[0m\n",
            "\u001b[?25hInstalling collected packages: vaderSentiment\n",
            "Successfully installed vaderSentiment-3.3.2\n"
          ]
        }
      ],
      "source": [
        "pip install vaderSentiment"
      ]
    },
    {
      "cell_type": "code",
      "source": [
        "from vaderSentiment.vaderSentiment import SentimentIntensityAnalyzer"
      ],
      "metadata": {
        "id": "OCn1BGeC9OUo"
      },
      "execution_count": 2,
      "outputs": []
    },
    {
      "cell_type": "code",
      "source": [
        "def sentiment_scores(sentence):\n",
        "    sid_obj = SentimentIntensityAnalyzer()\n",
        "    sentiment_dict = sid_obj.polarity_scores(sentence)\n",
        "\n",
        "    print(f\"Sentiment Scores: {sentiment_dict}\")\n",
        "    print(f\"Negative Sentiment: {sentiment_dict['neg']*100}%\")\n",
        "    print(f\"Neutral Sentiment: {sentiment_dict['neu']*100}%\")\n",
        "    print(f\"Positive Sentiment: {sentiment_dict['pos']*100}%\")\n",
        "\n",
        "    if sentiment_dict['compound'] >= 0.05:\n",
        "        print(\"Overall Sentiment: Positive\")\n",
        "    elif sentiment_dict['compound'] <= -0.05:\n",
        "        print(\"Overall Sentiment: Negative\")\n",
        "    else:\n",
        "        print(\"Overall Sentiment: Neutral\")"
      ],
      "metadata": {
        "id": "2KniNQT99RPR"
      },
      "execution_count": 3,
      "outputs": []
    },
    {
      "cell_type": "code",
      "source": [
        "if __name__ == \"__main__\":\n",
        "\n",
        "    print(\"\\n1st Statement:\")\n",
        "    sentence = \"Geeks For Geeks is an excellent platform for CSE students.\"\n",
        "    sentiment_scores(sentence)\n",
        "\n",
        "    print(\"\\n2nd Statement:\")\n",
        "    sentence = \"Shweta played well in the match as usual.\"\n",
        "    sentiment_scores(sentence)\n",
        "\n",
        "    print(\"\\n3rd Statement:\")\n",
        "    sentence = \"I am feeling sad today.\"\n",
        "    sentiment_scores(sentence)"
      ],
      "metadata": {
        "colab": {
          "base_uri": "https://localhost:8080/"
        },
        "id": "6GfIo9oR9TF4",
        "outputId": "87d7812f-9bde-4f9e-85ba-9f991fe71f8c"
      },
      "execution_count": 4,
      "outputs": [
        {
          "output_type": "stream",
          "name": "stdout",
          "text": [
            "\n",
            "1st Statement:\n",
            "Sentiment Scores: {'neg': 0.207, 'neu': 0.519, 'pos': 0.274, 'compound': 0.4404}\n",
            "Negative Sentiment: 20.7%\n",
            "Neutral Sentiment: 51.9%\n",
            "Positive Sentiment: 27.400000000000002%\n",
            "Overall Sentiment: Positive\n",
            "\n",
            "2nd Statement:\n",
            "Sentiment Scores: {'neg': 0.0, 'neu': 0.571, 'pos': 0.429, 'compound': 0.5423}\n",
            "Negative Sentiment: 0.0%\n",
            "Neutral Sentiment: 57.099999999999994%\n",
            "Positive Sentiment: 42.9%\n",
            "Overall Sentiment: Positive\n",
            "\n",
            "3rd Statement:\n",
            "Sentiment Scores: {'neg': 0.408, 'neu': 0.395, 'pos': 0.197, 'compound': -0.3818}\n",
            "Negative Sentiment: 40.8%\n",
            "Neutral Sentiment: 39.5%\n",
            "Positive Sentiment: 19.7%\n",
            "Overall Sentiment: Negative\n"
          ]
        }
      ]
    },
    {
      "cell_type": "code",
      "source": [],
      "metadata": {
        "id": "xaf8lJyS9VF1"
      },
      "execution_count": null,
      "outputs": []
    }
  ]
}