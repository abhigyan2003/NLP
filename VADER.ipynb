{
 "cells": [
  {
   "cell_type": "code",
   "execution_count": 2,
   "id": "c2d35525-8ec9-4cb9-9032-93cb49037e7d",
   "metadata": {},
   "outputs": [
    {
     "data": {
      "text/plain": [
       "'C:\\\\Users\\\\Abhigyan Borah'"
      ]
     },
     "execution_count": 2,
     "metadata": {},
     "output_type": "execute_result"
    }
   ],
   "source": [
    "import os\n",
    "os.getcwd()\n"
   ]
  },
  {
   "cell_type": "code",
   "execution_count": 4,
   "id": "7afc3208-393b-4fef-af23-b5d56543065f",
   "metadata": {},
   "outputs": [],
   "source": [
    "os.chdir(r\"C:\\Users\\Abhigyan Borah\\Desktop\\ISI\")"
   ]
  },
  {
   "cell_type": "code",
   "execution_count": 5,
   "id": "fdf2dd36-177d-4a8d-a1fc-0f19324562f5",
   "metadata": {},
   "outputs": [
    {
     "data": {
      "text/plain": [
       "'C:\\\\Users\\\\Abhigyan Borah\\\\Desktop\\\\ISI'"
      ]
     },
     "execution_count": 5,
     "metadata": {},
     "output_type": "execute_result"
    }
   ],
   "source": [
    "os.getcwd()\n"
   ]
  },
  {
   "cell_type": "code",
   "execution_count": 6,
   "id": "c82ebed6-4056-4229-8be3-478ea483bdf6",
   "metadata": {},
   "outputs": [
    {
     "name": "stdout",
     "output_type": "stream",
     "text": [
      "Defaulting to user installation because normal site-packages is not writeable\n",
      "Collecting vaderSentiment\n",
      "  Downloading vaderSentiment-3.3.2-py2.py3-none-any.whl.metadata (572 bytes)\n",
      "Requirement already satisfied: requests in c:\\programdata\\anaconda3\\lib\\site-packages (from vaderSentiment) (2.32.3)\n",
      "Requirement already satisfied: charset-normalizer<4,>=2 in c:\\programdata\\anaconda3\\lib\\site-packages (from requests->vaderSentiment) (3.3.2)\n",
      "Requirement already satisfied: idna<4,>=2.5 in c:\\programdata\\anaconda3\\lib\\site-packages (from requests->vaderSentiment) (3.7)\n",
      "Requirement already satisfied: urllib3<3,>=1.21.1 in c:\\programdata\\anaconda3\\lib\\site-packages (from requests->vaderSentiment) (2.2.3)\n",
      "Requirement already satisfied: certifi>=2017.4.17 in c:\\programdata\\anaconda3\\lib\\site-packages (from requests->vaderSentiment) (2025.4.26)\n",
      "Downloading vaderSentiment-3.3.2-py2.py3-none-any.whl (125 kB)\n",
      "Installing collected packages: vaderSentiment\n",
      "Successfully installed vaderSentiment-3.3.2\n"
     ]
    }
   ],
   "source": [
    "!pip install vaderSentiment"
   ]
  },
  {
   "cell_type": "code",
   "execution_count": 14,
   "id": "3ace6c5f-093f-46ba-b785-1b574ec4ef86",
   "metadata": {},
   "outputs": [],
   "source": [
    "from vaderSentiment.vaderSentiment import SentimentIntensityAnalyzer"
   ]
  },
  {
   "cell_type": "code",
   "execution_count": 15,
   "id": "412b8217-b60a-431d-833e-180c9a99b337",
   "metadata": {},
   "outputs": [],
   "source": [
    "obj = SentimentIntensityAnalyzer()\n"
   ]
  },
  {
   "cell_type": "code",
   "execution_count": 16,
   "id": "e98977d8-5483-4c6e-b29a-470b7e72c8b6",
   "metadata": {},
   "outputs": [
    {
     "name": "stdout",
     "output_type": "stream",
     "text": [
      "{'neg': 0.0, 'neu': 0.484, 'pos': 0.516, 'compound': 0.4927}\n"
     ]
    }
   ],
   "source": [
    "sentence = \"Abhigyan is really good student\"\n",
    "sentiment_dict = obj.polarity_scores(\n",
    "    sentence)\n",
    "print(sentiment_dict)"
   ]
  },
  {
   "cell_type": "code",
   "execution_count": 19,
   "id": "c6838890-d112-4231-8041-ef27489b672c",
   "metadata": {},
   "outputs": [
    {
     "name": "stdout",
     "output_type": "stream",
     "text": [
      "{'neg': 0.487, 'neu': 0.513, 'pos': 0.0, 'compound': -0.5849}\n"
     ]
    }
   ],
   "source": [
    "sentence = \"Abhigyan is really bad student\"\n",
    "sentiment_dict = obj.polarity_scores(sentence)\n",
    "print(sentiment_dict)"
   ]
  },
  {
   "cell_type": "code",
   "execution_count": 21,
   "id": "47a67752-21c6-4a3c-8f4a-24cf7e1489a6",
   "metadata": {},
   "outputs": [
    {
     "name": "stdout",
     "output_type": "stream",
     "text": [
      "{'neg': 0.0, 'neu': 0.58, 'pos': 0.42, 'compound': 0.4404}\n",
      "{'neg': 0.0, 'neu': 0.556, 'pos': 0.444, 'compound': 0.4926}\n",
      "{'neg': 0.0, 'neu': 0.534, 'pos': 0.466, 'compound': 0.5399}\n"
     ]
    }
   ],
   "source": [
    "print(obj.polarity_scores('Abhigyan is a good student'))\n",
    "print(obj.polarity_scores('Abhigyan is a good student!'))\n",
    "print(obj.polarity_scores('Abhigyan is a good student!!'))"
   ]
  },
  {
   "cell_type": "code",
   "execution_count": 22,
   "id": "111d548f-6c2b-4bb0-ac7c-d416a3cbfc39",
   "metadata": {},
   "outputs": [
    {
     "name": "stdout",
     "output_type": "stream",
     "text": [
      "{'neg': 0.0, 'neu': 0.58, 'pos': 0.42, 'compound': 0.4404}\n",
      "{'neg': 0.0, 'neu': 0.58, 'pos': 0.42, 'compound': 0.4404}\n",
      "{'neg': 0.0, 'neu': 0.524, 'pos': 0.476, 'compound': 0.5622}\n"
     ]
    }
   ],
   "source": [
    "print(obj.polarity_scores('Abhigyan is a good student'))\n",
    "print(obj.polarity_scores('Abhigyan is a good STUDENT'))\n",
    "print(obj.polarity_scores('Abhigyan is a GOOD STUDENT'))"
   ]
  },
  {
   "cell_type": "code",
   "execution_count": 23,
   "id": "a71a4a4c-014c-4980-ad22-1887bc5e65ba",
   "metadata": {},
   "outputs": [
    {
     "name": "stdout",
     "output_type": "stream",
     "text": [
      "{'neg': 0.0, 'neu': 0.58, 'pos': 0.42, 'compound': 0.4404}\n",
      "{'neg': 0.0, 'neu': 0.61, 'pos': 0.39, 'compound': 0.4927}\n"
     ]
    }
   ],
   "source": [
    "print(obj.polarity_scores('Abhigyan is a good student'))\n",
    "print(obj.polarity_scores('Abhigyan is a very good student'))"
   ]
  },
  {
   "cell_type": "code",
   "execution_count": 27,
   "id": "9d75bb36-65ff-433d-9f92-ec0cf610bff1",
   "metadata": {},
   "outputs": [
    {
     "name": "stdout",
     "output_type": "stream",
     "text": [
      "{'neg': 0.0, 'neu': 0.58, 'pos': 0.42, 'compound': 0.4404}\n",
      "{'neg': 0.229, 'neu': 0.634, 'pos': 0.137, 'compound': -0.3182}\n"
     ]
    }
   ],
   "source": [
    "print(obj.polarity_scores('Abhigyan is a good student'))\n",
    "print(obj.polarity_scores('Abhigyan is a good student, but he is also lazy sometimes'))"
   ]
  },
  {
   "cell_type": "code",
   "execution_count": 25,
   "id": "5e73aff4-aa5b-4de6-96c9-5b7cedc1c7d5",
   "metadata": {},
   "outputs": [
    {
     "name": "stdout",
     "output_type": "stream",
     "text": [
      "{'neg': 0.0, 'neu': 0.58, 'pos': 0.42, 'compound': 0.4404}\n",
      "{'neg': 0.229, 'neu': 0.634, 'pos': 0.137, 'compound': -0.3182}\n"
     ]
    }
   ],
   "source": [
    "print(obj.polarity_scores('Abhigyan is a good student'))\n",
    "print(obj.polarity_scores('Abhigyan is a good student, but he is also lazy sometimes'))"
   ]
  },
  {
   "cell_type": "code",
   "execution_count": 26,
   "id": "8292d625-d0a5-407d-b139-1d0c84f71df5",
   "metadata": {},
   "outputs": [
    {
     "name": "stdout",
     "output_type": "stream",
     "text": [
      "{'neg': 0.0, 'neu': 0.574, 'pos': 0.426, 'compound': 0.7713}\n",
      "{'neg': 0.0, 'neu': 0.556, 'pos': 0.444, 'compound': 0.8016}\n"
     ]
    }
   ],
   "source": [
    "print(obj.polarity_scores('your smile is the most beautiful thing i have ever seen'))\n",
    "print(obj.polarity_scores('your :) is the most beautiful thing i have ever seen'))"
   ]
  }
 ],
 "metadata": {
  "kernelspec": {
   "display_name": "Python 3 (ipykernel)",
   "language": "python",
   "name": "python3"
  },
  "language_info": {
   "codemirror_mode": {
    "name": "ipython",
    "version": 3
   },
   "file_extension": ".py",
   "mimetype": "text/x-python",
   "name": "python",
   "nbconvert_exporter": "python",
   "pygments_lexer": "ipython3",
   "version": "3.12.7"
  }
 },
 "nbformat": 4,
 "nbformat_minor": 5
}
